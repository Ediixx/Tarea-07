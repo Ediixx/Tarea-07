{
 "cells": [
  {
   "cell_type": "markdown",
   "metadata": {},
   "source": [
    "## Ejercicio 03"
   ]
  },
  {
   "cell_type": "markdown",
   "metadata": {},
   "source": [
    "#### 3) Diríjase al pseudocódigo del spline cúbico con frontera natural provisto en clase, en base a ese pseudocódigo complete la siguiente función:\n"
   ]
  },
  {
   "cell_type": "code",
   "execution_count": 6,
   "metadata": {},
   "outputs": [
    {
     "data": {
      "text/latex": [
       "$\\displaystyle 1.5 x^{3} - 0.5 x - 5$"
      ],
      "text/plain": [
       "1.5*x**3 - 0.5*x - 5"
      ]
     },
     "metadata": {},
     "output_type": "display_data"
    },
    {
     "data": {
      "text/latex": [
       "$\\displaystyle 4.0 x - 1.5 \\left(x - 1\\right)^{3} + 4.5 \\left(x - 1\\right)^{2} - 8.0$"
      ],
      "text/plain": [
       "4.0*x - 1.5*(x - 1)**3 + 4.5*(x - 1)**2 - 8.0"
      ]
     },
     "metadata": {},
     "output_type": "display_data"
    },
    {
     "name": "stdout",
     "output_type": "stream",
     "text": [
      "______\n"
     ]
    },
    {
     "data": {
      "text/latex": [
       "$\\displaystyle 1.5 x^{3} - 0.5 x - 5$"
      ],
      "text/plain": [
       "1.5*x**3 - 0.5*x - 5"
      ]
     },
     "metadata": {},
     "output_type": "display_data"
    },
    {
     "data": {
      "text/latex": [
       "$\\displaystyle - 1.5 x^{3} + 9.0 x^{2} - 9.5 x - 2.0$"
      ],
      "text/plain": [
       "-1.5*x**3 + 9.0*x**2 - 9.5*x - 2.0"
      ]
     },
     "metadata": {},
     "output_type": "display_data"
    }
   ],
   "source": [
    "import sympy as sym\n",
    "from IPython.display import display\n",
    "\n",
    "def cubic_spline(xs: list[float], ys: list[float]) -> list[sym.Symbol]:\n",
    "    points = sorted(zip(xs, ys), key=lambda x: x[0])  # Ordenar puntos por x\n",
    "    xs = [x for x, _ in points]\n",
    "    ys = [y for _, y in points]\n",
    "\n",
    "    n = len(points) - 1  # Número de splines\n",
    "    h = [xs[i + 1] - xs[i] for i in range(n)]  # Distancias entre x consecutivos\n",
    "\n",
    "    # Inicializar alpha\n",
    "    alpha = [0] * (n)\n",
    "    for i in range(1, n):\n",
    "        alpha[i] = (\n",
    "            3 / h[i] * (ys[i + 1] - ys[i])\n",
    "            - 3 / h[i - 1] * (ys[i] - ys[i - 1])\n",
    "        )\n",
    "\n",
    "    # Inicializar l, u, z\n",
    "    l = [1] * (n + 1)\n",
    "    u = [0] * n\n",
    "    z = [0] * (n + 1)\n",
    "\n",
    "    # Resolver sistema tridiagonal\n",
    "    for i in range(1, n):\n",
    "        l[i] = 2 * (xs[i + 1] - xs[i - 1]) - h[i - 1] * u[i - 1]\n",
    "        u[i] = h[i] / l[i]\n",
    "        z[i] = (alpha[i] - h[i - 1] * z[i - 1]) / l[i]\n",
    "\n",
    "    l[n] = 1\n",
    "    z[n] = 0\n",
    "    c = [0] * (n + 1)\n",
    "    b = [0] * n\n",
    "    d = [0] * n\n",
    "    a = [0] * n\n",
    "    x = sym.Symbol(\"x\")\n",
    "    splines = []\n",
    "\n",
    "    for j in range(n - 1, -1, -1):\n",
    "        c[j] = z[j] - u[j] * c[j + 1]\n",
    "        b[j] = (ys[j + 1] - ys[j]) / h[j] - h[j] * (c[j + 1] + 2 * c[j]) / 3\n",
    "        d[j] = (c[j + 1] - c[j]) / (3 * h[j])\n",
    "        a[j] = ys[j]\n",
    "\n",
    "        # Crear la función spline simbólica\n",
    "        S = (\n",
    "            a[j]\n",
    "            + b[j] * (x - xs[j])\n",
    "            + c[j] * (x - xs[j]) ** 2\n",
    "            + d[j] * (x - xs[j]) ** 3\n",
    "        )\n",
    "        splines.append(S)\n",
    "\n",
    "    splines.reverse()\n",
    "    return splines\n",
    "\n",
    "xs = [0, 1, 2]\n",
    "ys = [-5, -4, 3]\n",
    "\n",
    "splines = cubic_spline(xs=xs, ys=ys)\n",
    "_ = [display(s) for s in splines]\n",
    "print(\"______\")\n",
    "_ = [display(s.expand()) for s in splines]"
   ]
  }
 ],
 "metadata": {
  "kernelspec": {
   "display_name": "Python 3",
   "language": "python",
   "name": "python3"
  },
  "language_info": {
   "codemirror_mode": {
    "name": "ipython",
    "version": 3
   },
   "file_extension": ".py",
   "mimetype": "text/x-python",
   "name": "python",
   "nbconvert_exporter": "python",
   "pygments_lexer": "ipython3",
   "version": "3.11.0"
  }
 },
 "nbformat": 4,
 "nbformat_minor": 2
}
